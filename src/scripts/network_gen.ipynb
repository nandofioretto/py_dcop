{
 "cells": [
  {
   "cell_type": "code",
   "execution_count": 1,
   "metadata": {
    "collapsed": true
   },
   "outputs": [],
   "source": [
    "import networkx as nx\n",
    "import numpy as np\n",
    "import sys\n",
    "sys.path.append(\"/Users/ferdinandofioretto/Repos/dcop/py_dcop/src\")\n",
    "\n",
    "nagts = 3\n",
    "\n",
    "G = nx.grid_graph([nagts, nagts]).to_undirected()\n",
    "while not nx.is_connected(G):\n",
    "    G = nx.grid_graph(nagts).to_undirected()"
   ]
  },
  {
   "cell_type": "code",
   "execution_count": 2,
   "metadata": {},
   "outputs": [],
   "source": [
    "# Normalize Graph\n",
    "Gn = nx.empty_graph(nagts)\n",
    "map_nodes = {}\n",
    "nid = 0\n",
    "for n in G.nodes():\n",
    "    map_nodes[n] = nid\n",
    "    nid += 1\n",
    "for e in G.edges():\n",
    "    Gn.add_edge(map_nodes[e[0]], map_nodes[e[1]])"
   ]
  },
  {
   "cell_type": "code",
   "execution_count": 4,
   "metadata": {},
   "outputs": [],
   "source": [
    "from core.dcop_instance import DCOPInstance\n",
    "dcop = DCOPInstance()\n",
    "dcop.generate_from_graph(Gn, dsize=3)"
   ]
  },
  {
   "cell_type": "code",
   "execution_count": 5,
   "metadata": {},
   "outputs": [
    {
     "name": "stdout",
     "output_type": "stream",
     "text": [
      "========== DCOP Instance ===========\nagent: a_0\t controls:['v_0'] constraints: ['c_0', 'c_1'] controlled: ['c_0', 'c_1']\nagent: a_1\t controls:['v_1'] constraints: ['c_0', 'c_2', 'c_4'] controlled: ['c_2', 'c_4']\nagent: a_2\t controls:['v_2'] constraints: ['c_2', 'c_3'] controlled: ['c_3']\nagent: a_3\t controls:['v_3'] constraints: ['c_1', 'c_5', 'c_8'] controlled: ['c_5', 'c_8']\nagent: a_4\t controls:['v_4'] constraints: ['c_4', 'c_5', 'c_6', 'c_7'] controlled: ['c_6', 'c_7']\nagent: a_5\t controls:['v_5'] constraints: ['c_3', 'c_6', 'c_10'] controlled: ['c_10']\nagent: a_6\t controls:['v_6'] constraints: ['c_8', 'c_9'] controlled: ['c_9']\nagent: a_7\t controls:['v_7'] constraints: ['c_7', 'c_9', 'c_11'] controlled: ['c_11']\nagent: a_8\t controls:['v_8'] constraints: ['c_10', 'c_11'] controlled: []\nconstraint:c_0\t scope: ['v_0', 'v_1']\nconstraint:c_1\t scope: ['v_0', 'v_3']\nconstraint:c_2\t scope: ['v_2', 'v_1']\nconstraint:c_3\t scope: ['v_2', 'v_5']\nconstraint:c_4\t scope: ['v_4', 'v_1']\nconstraint:c_5\t scope: ['v_4', 'v_3']\nconstraint:c_6\t scope: ['v_4', 'v_5']\nconstraint:c_7\t scope: ['v_4', 'v_7']\nconstraint:c_8\t scope: ['v_6', 'v_3']\nconstraint:c_9\t scope: ['v_6', 'v_7']\nconstraint:c_10\t scope: ['v_8', 'v_5']\nconstraint:c_11\t scope: ['v_8', 'v_7']\nvariablev_0\t agt=(a_0)  dom=[0, 1, 2] val=NA\nvariablev_1\t agt=(a_1)  dom=[0, 1, 2] val=NA\nvariablev_2\t agt=(a_2)  dom=[0, 1, 2] val=NA\nvariablev_3\t agt=(a_3)  dom=[0, 1, 2] val=NA\nvariablev_4\t agt=(a_4)  dom=[0, 1, 2] val=NA\nvariablev_5\t agt=(a_5)  dom=[0, 1, 2] val=NA\nvariablev_6\t agt=(a_6)  dom=[0, 1, 2] val=NA\nvariablev_7\t agt=(a_7)  dom=[0, 1, 2] val=NA\nvariablev_8\t agt=(a_8)  dom=[0, 1, 2] val=NA\n====================================\n\n"
     ]
    }
   ],
   "source": [
    "print(dcop)"
   ]
  },
  {
   "cell_type": "code",
   "execution_count": null,
   "metadata": {},
   "outputs": [],
   "source": []
  }
 ],
 "metadata": {
  "kernelspec": {
   "display_name": "Python 2",
   "language": "python",
   "name": "python2"
  },
  "language_info": {
   "codemirror_mode": {
    "name": "ipython",
    "version": 2
   },
   "file_extension": ".py",
   "mimetype": "text/x-python",
   "name": "python",
   "nbconvert_exporter": "python",
   "pygments_lexer": "ipython2",
   "version": "2.7.6"
  }
 },
 "nbformat": 4,
 "nbformat_minor": 0
}

{
 "cells": [
  {
   "cell_type": "code",
   "execution_count": 136,
   "metadata": {
    "collapsed": false
   },
   "outputs": [
    {
     "name": "stdout",
     "output_type": "stream",
     "text": [
      "weights: {'1': 30.0, '2': 22.0, '3': 12.0, '4': 12.0, '5': 8.0, '6': 9.0, '7': 13.0, '8': 10.0, '9': 3.0, '10': 4.0, '11': 3.0, '12': 2.0, '13': 4.0, '14': 4.0, '15': 5.0, '16': 8.0, '17': 9.0, '18': 4.0, '19': 5.0, '20': 1.0, '21': 2.0, '22': 3.0, '23': 4.0, '24': 2.0, '25': 3.0, '26': 2.0, '27': 3.0, '28': 2.0, '29': 3.0, '30': 1.0, '31': 2.0, '32': 2.0, '33': 3.0, '34': 8.0, '35': 9.0, '36': 8.0, '37': 9.0}\n"
     ]
    },
    {
     "name": "stderr",
     "output_type": "stream",
     "text": [
      "Running /Users/nando/Repos/DCOP/py_dcop/third_parties/wcsp/build/bin/wcsp -k -g /var/folders/q4/003xq7117nnfy9_cth24pwk80000gs/T/tmplrhj43jk\n"
     ]
    }
   ],
   "source": [
    "import numpy as np\n",
    "import networkx as nx\n",
    "import sys\n",
    "sys.path.append(\"/Users/nando/Repos/DCOP/py_dcop/src/\")\n",
    "\n",
    "from core.dcop_instance import DCOPInstance\n",
    "from utils.ccg_utils import transform_dcop_instance_to_ccg\n",
    "\n",
    "data_path = '/Users/nando/Repos/DCOP/py_dcop/data/'\n",
    "dcopIstance = DCOPInstance(data_path + 'binary.json')\n",
    "G = transform_dcop_instance_to_ccg(dcopIstance)\n",
    "\n",
    "print('weights:', nx.get_node_attributes(G, 'weight'))"
   ]
  },
  {
   "cell_type": "code",
   "execution_count": 137,
   "metadata": {
    "collapsed": false
   },
   "outputs": [
    {
     "name": "stdout",
     "output_type": "stream",
     "text": [
      "{'weight': 30.0, 'type': 'decision', 'variable': 'v0', 'rank': 1}\n{'weight': 22.0, 'type': 'decision', 'variable': 'v0', 'rank': 2}\n"
     ]
    }
   ],
   "source": [
    "# Associates variables to CCG nodes\n",
    "var_to_ccg_nodes = { vname : [] for vname in dcopIstance.variables}\n",
    "for n, d in G.nodes(data=True):\n",
    "    if 'variable' in d:\n",
    "        var_to_ccg_nodes[d['variable']].append(n)\n",
    "\n",
    "# Example to retrieve node from variable\n",
    "for n in var_to_ccg_nodes['v0']:\n",
    "    print(G.node[n])"
   ]
  },
  {
   "cell_type": "code",
   "execution_count": 172,
   "metadata": {},
   "outputs": [],
   "source": [
    "def add_node_from(G_to, G_from, n):\n",
    "    G_to.add_node(n)\n",
    "    for attr in G_from.nodes[n]:\n",
    "       G_to.nodes[n][attr] = G_from.nodes[n][attr]"
   ]
  },
  {
   "cell_type": "code",
   "execution_count": 184,
   "metadata": {},
   "outputs": [],
   "source": [
    "## Partition the nodes among agents:\n",
    "processed_nodes = []\n",
    "\n",
    "G_agts = {vname: nx.Graph() for vname in dcopIstance.variables}\n",
    "\n",
    "for v in dcopIstance.variables:\n",
    "    for n in var_to_ccg_nodes[v]:\n",
    "        add_node_from(G_agts[v], G, n)\n",
    "        processed_nodes.append(n)\n",
    "        \n",
    "    for n in var_to_ccg_nodes[v]:\n",
    "        ngbs_n = G.neighbors(n)\n",
    "        for m in ngbs_n:\n",
    "            if m not in processed_nodes:\n",
    "                add_node_from(G_agts[v], G, m)\n",
    "                processed_nodes.append(m)\n",
    "                \n",
    "    # todo: missing aux variables type 2 (neighbors of neighbors)?\n",
    "assert(G.number_of_nodes() == len(processed_nodes))"
   ]
  },
  {
   "cell_type": "code",
   "execution_count": 185,
   "metadata": {},
   "outputs": [],
   "source": [
    "## Partition edges among agents\n",
    "processed_edges = []\n",
    "for v in dcopIstance.variables:\n",
    "    #print(nx.edges(G, G_agts[v].nodes))\n",
    "    tmp = []\n",
    "    for n in G_agts[v].nodes:\n",
    "        for e in nx.edges(G, n):\n",
    "            if (e[0], e[1]) in processed_edges: continue\n",
    "            if (e[1], e[0]) in processed_edges: continue\n",
    "            processed_edges.append((e[0], e[1]))\n",
    "            processed_edges.append((e[1], e[0]))\n",
    "            tmp.append(e)\n",
    "    G_agts[v].add_edges_from(tmp)\n",
    "\n",
    "assert (G.number_of_edges()*2 == len(processed_edges))"
   ]
  },
  {
   "cell_type": "code",
   "execution_count": 175,
   "metadata": {},
   "outputs": [],
   "source": [
    "for v in dcopIstance.variables:\n",
    "    for (n1, n2) in G_agts[v].edges:\n",
    "        add_node_from(G_agts[v], G, n2)\n",
    "        #G_agts[v].add_node(n2, attr_dict=G.node[n2])"
   ]
  },
  {
   "cell_type": "code",
   "execution_count": 178,
   "metadata": {},
   "outputs": [
    {
     "data": {
      "text/plain": [
       "{'1': 30.0,\n '2': 22.0,\n '3': 12.0,\n '4': 12.0,\n '5': 8.0,\n '6': 9.0,\n '7': 13.0,\n '8': 10.0,\n '9': 3.0,\n '10': 4.0,\n '11': 3.0,\n '12': 2.0,\n '13': 4.0,\n '14': 4.0,\n '15': 5.0,\n '16': 8.0,\n '17': 9.0,\n '18': 4.0,\n '19': 5.0,\n '20': 1.0,\n '21': 2.0,\n '22': 3.0,\n '23': 4.0,\n '24': 2.0,\n '25': 3.0,\n '26': 2.0,\n '27': 3.0,\n '28': 2.0,\n '29': 3.0,\n '30': 1.0,\n '31': 2.0,\n '32': 2.0,\n '33': 3.0,\n '34': 8.0,\n '35': 9.0,\n '36': 8.0,\n '37': 9.0}"
      ]
     },
     "execution_count": 178,
     "metadata": {},
     "output_type": "execute_result"
    }
   ],
   "source": [
    "nx.get_node_attributes(G, 'weight')"
   ]
  },
  {
   "cell_type": "code",
   "execution_count": 151,
   "metadata": {},
   "outputs": [],
   "source": [
    "# G_agts2 = {vname: nx.Graph() for vname in dcopIstance.variables}\n",
    "# \n",
    "# for var in dcopIstance.variables:\n",
    "#     nodes = []\n",
    "#     for v in var_to_ccg_nodes[var]:\n",
    "#         if v not in nodes: nodes.append(v)\n",
    "#         for u in G.neighbors(v):\n",
    "#             if u not in nodes: nodes.append(u)\n",
    "#     G_agts2[var] = nx.Graph(G.subgraph(nodes))"
   ]
  }
 ],
 "metadata": {
  "kernelspec": {
   "display_name": "Python 2",
   "language": "python",
   "name": "python2"
  },
  "language_info": {
   "codemirror_mode": {
    "name": "ipython",
    "version": 2.0
   },
   "file_extension": ".py",
   "mimetype": "text/x-python",
   "name": "python",
   "nbconvert_exporter": "python",
   "pygments_lexer": "ipython2",
   "version": "2.7.6"
  }
 },
 "nbformat": 4,
 "nbformat_minor": 0
}
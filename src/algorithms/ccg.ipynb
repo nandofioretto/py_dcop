{
 "cells": [
  {
   "cell_type": "code",
   "execution_count": 9,
   "metadata": {
    "collapsed": true
   },
   "outputs": [
    {
     "name": "stderr",
     "output_type": "stream",
     "text": [
      "Running /Users/nando/Repos/DCOP/py_dcop/third_parties/wcsp/build/bin/wcsp -k -g /var/folders/q4/003xq7117nnfy9_cth24pwk80000gs/T/tmp7vijws_j\n"
     ]
    }
   ],
   "source": [
    "import numpy as np\n",
    "import networkx as nx\n",
    "import sys\n",
    "sys.path.append(\"/Users/nando/Repos/DCOP/py_dcop/src/\")\n",
    "\n",
    "from core.dcop_instance import DCOPInstance\n",
    "from algorithms.ccg_maxsum import transform_dcop_instance_to_ccg\n",
    "\n",
    "data_path = '/Users/nando/Repos/DCOP/py_dcop/data/'\n",
    "dcopIstance = DCOPInstance(data_path + 'binary.json')\n",
    "G = transform_dcop_instance_to_ccg(dcopIstance)"
   ]
  },
  {
   "cell_type": "code",
   "execution_count": 59,
   "metadata": {},
   "outputs": [
    {
     "name": "stdout",
     "output_type": "stream",
     "text": [
      "{'weight': 30.0, 'type': 'decision', 'variable': 'v0', 'rank': 1}\n{'weight': 22.0, 'type': 'decision', 'variable': 'v0', 'rank': 2}\n"
     ]
    }
   ],
   "source": [
    "# Associates variables to CCG nodes\n",
    "var_to_ccg_nodes = { vname : [] for vname in dcopIstance.variables}\n",
    "for n, d in G.nodes(data=True):\n",
    "    if 'variable' in d:\n",
    "        var_to_ccg_nodes[d['variable']].append(n)\n",
    "\n",
    "# Example to retrieve node from variable\n",
    "for n in var_to_ccg_nodes['v0']:\n",
    "    print(G.node[n])"
   ]
  },
  {
   "cell_type": "code",
   "execution_count": 72,
   "metadata": {},
   "outputs": [],
   "source": [
    "## Partition the nodes among agents:\n",
    "processed_nodes = []\n",
    "\n",
    "G_agts = {vname: nx.Graph() for vname in dcopIstance.variables}\n",
    "\n",
    "for v in dcopIstance.variables:\n",
    "    for n in var_to_ccg_nodes[v]:\n",
    "        G_agts[v].add_node(n, attr_dict=G.node[n])\n",
    "        processed_nodes.append(n)\n",
    "        \n",
    "    for n in var_to_ccg_nodes[v]:\n",
    "        ngbs_n = G.neighbors(n)\n",
    "        for m in ngbs_n:\n",
    "            if m not in processed_nodes:\n",
    "                G_agts[v].add_node(m, attr_dict=G.node[n])\n",
    "                processed_nodes.append(m)"
   ]
  },
  {
   "cell_type": "code",
   "execution_count": 79,
   "metadata": {},
   "outputs": [
    {
     "name": "stdout",
     "output_type": "stream",
     "text": [
      "['1', '10', '11', '12', '13', '15', '17', '19', '2', '21', '23', '25', '27', '29', '31', '33', '5', '6', '9']\n['16', '20', '22', '28', '3', '30', '34', '35', '4']\n['14', '18', '24', '26', '32', '36', '37', '7', '8']\n"
     ]
    }
   ],
   "source": [
    "print(sorted(G_agts['v0'].nodes))\n",
    "print(sorted(G_agts['v1'].nodes))\n",
    "print(sorted(G_agts['v2'].nodes))"
   ]
  },
  {
   "cell_type": "code",
   "execution_count": 91,
   "metadata": {},
   "outputs": [],
   "source": [
    "## Partition edges among agents\n",
    "processed_edges = []\n",
    "for v in dcopIstance.variables:\n",
    "    #print(nx.edges(G, G_agts[v].nodes))\n",
    "    tmp = []\n",
    "    for n in G_agts[v].nodes:\n",
    "        for e in nx.edges(G, n):\n",
    "            if (e[0], e[1]) in processed_edges: continue\n",
    "            if (e[1], e[0]) in processed_edges: continue\n",
    "            processed_edges.append((e[0], e[1]))\n",
    "            processed_edges.append((e[1], e[0]))\n",
    "            tmp.append(e)\n",
    "    G_agts[v].add_edges_from(tmp)"
   ]
  },
  {
   "cell_type": "code",
   "execution_count": 93,
   "metadata": {},
   "outputs": [
    {
     "name": "stdout",
     "output_type": "stream",
     "text": [
      "[('1', '6'), ('1', '10'), ('1', '11'), ('1', '12'), ('1', '13'), ('1', '15'), ('1', '21'), ('1', '23'), ('1', '25'), ('1', '27'), ('1', '2'), ('2', '5'), ('2', '9'), ('2', '11'), ('2', '12'), ('2', '13'), ('2', '17'), ('2', '19'), ('2', '29'), ('2', '31'), ('2', '33'), ('6', '5'), ('10', '9'), ('11', '3'), ('12', '4'), ('13', '7'), ('15', '14'), ('21', '20'), ('23', '22'), ('25', '24'), ('27', '26'), ('5', '3'), ('5', '4'), ('9', '7'), ('9', '8'), ('17', '16'), ('19', '18'), ('29', '28'), ('31', '30'), ('33', '32'), ('3', '16'), ('3', '20'), ('3', '28'), ('3', '35'), ('3', '4'), ('4', '16'), ('4', '22'), ('4', '30'), ('4', '34')]\n[('35', '34')]\n[('7', '14'), ('7', '18'), ('7', '24'), ('7', '32'), ('7', '37'), ('7', '8'), ('8', '14'), ('8', '18'), ('8', '26'), ('8', '36'), ('37', '36')]\n"
     ]
    }
   ],
   "source": [
    "# Finally Add nodes of connecting edges:\n",
    "print(G_agts['v0'].edges)\n",
    "print(G_agts['v1'].edges)\n",
    "print(G_agts['v2'].edges)"
   ]
  },
  {
   "cell_type": "code",
   "execution_count": 97,
   "metadata": {},
   "outputs": [],
   "source": [
    "for v in dcopIstance.variables:\n",
    "    for (n1, n2) in G_agts[v].edges:\n",
    "        G_agts[v].add_node(n2, attr_dict=G.node[n2])"
   ]
  },
  {
   "cell_type": "code",
   "execution_count": null,
   "metadata": {},
   "outputs": [],
   "source": [
    ""
   ]
  }
 ],
 "metadata": {
  "kernelspec": {
   "display_name": "Python 2",
   "language": "python",
   "name": "python2"
  },
  "language_info": {
   "codemirror_mode": {
    "name": "ipython",
    "version": 2.0
   },
   "file_extension": ".py",
   "mimetype": "text/x-python",
   "name": "python",
   "nbconvert_exporter": "python",
   "pygments_lexer": "ipython2",
   "version": "2.7.6"
  }
 },
 "nbformat": 4,
 "nbformat_minor": 0
}